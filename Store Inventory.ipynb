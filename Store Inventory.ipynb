{
 "cells": [
  {
   "cell_type": "code",
   "execution_count": 115,
   "id": "bc8e0c6c",
   "metadata": {},
   "outputs": [],
   "source": [
    "class Store:\n",
    "    def __init__ (self):\n",
    "        self.shop ={}\n",
    "        self.promo ={'FTX-04':1}\n",
    "        self.low = []\n",
    "    \n",
    "    def add_item(self,item,quantity,price):\n",
    "        if item not in self.shop:\n",
    "            self.shop[item] = [quantity,price]\n",
    "        else:\n",
    "             raise KeyError (f'{item} is already in the store')\n",
    "    def delete(self,item):\n",
    "        if item in self.shop:\n",
    "            self.shop.pop(item)\n",
    "        else:\n",
    "            raise KeyError (f'{item} is not in the store')\n",
    "            \n",
    "    def update(self, item, quantity):           #restock\n",
    "        self.shop[item][0] += quantity\n",
    "        \n",
    "    def rem_q(self, item):           #check the remaining items of a particular product\n",
    "        if item in self.shop: \n",
    "            z = self.shop[item][0]\n",
    "            return f\"There are {z} pieces of {item} remaining\"  \n",
    "    \n",
    "    def add_promo(self,code,discount):      #add promo codes \n",
    "         self.promo[code] = 1- discount\n",
    "            \n",
    "            \n",
    "    def order_item(self,item, quantity, promo='FTX-04'):  #order an item from the store\n",
    "        if item in self.shop: \n",
    "            if quantity <= self.shop[item][0]:\n",
    "                if promo in self.promo: \n",
    "                    self.shop[item][0] -= quantity             \n",
    "                    total = quantity * self.shop[item][1]\n",
    "                    total = total * self.promo[promo]\n",
    "                    return f\"You ordered {quantity} {item}s and your total is {total}GHs.\"\n",
    "                else:\n",
    "                    raise KeyError ('Invalid Promo Code. You are a thief') \n",
    "            else:\n",
    "                raise  ValueError (f'Abeg the {item}s are finished')\n",
    "        else:\n",
    "            raise KeyError (f'{item} not in store')  \n",
    "    \n",
    "    def low_stock(self):      #add promo codes \n",
    "         for item in self.shop:\n",
    "                if self.shop[item][0] < 10:\n",
    "                    self.low.append(item)\n",
    "                    return self.low"
   ]
  },
  {
   "cell_type": "code",
   "execution_count": 116,
   "id": "a1f18f36",
   "metadata": {},
   "outputs": [],
   "source": [
    "store = Store()"
   ]
  },
  {
   "cell_type": "code",
   "execution_count": 117,
   "id": "d3277dc6",
   "metadata": {},
   "outputs": [],
   "source": [
    "store.add_item('Pen',100,2.50)\n",
    "store.add_item('Pencil',70,2.50)\n",
    "store.add_item('Penyhj',50,2.50)\n",
    "store.add_item('Penjj',40,2.50)"
   ]
  },
  {
   "cell_type": "code",
   "execution_count": 118,
   "id": "bc3bbd8b",
   "metadata": {},
   "outputs": [
    {
     "data": {
      "text/plain": [
       "{'Pen': [100, 2.5],\n",
       " 'Pencil': [70, 2.5],\n",
       " 'Penyhj': [50, 2.5],\n",
       " 'Penjj': [40, 2.5]}"
      ]
     },
     "execution_count": 118,
     "metadata": {},
     "output_type": "execute_result"
    }
   ],
   "source": [
    "store.shop"
   ]
  },
  {
   "cell_type": "code",
   "execution_count": 83,
   "id": "2094a6b8",
   "metadata": {},
   "outputs": [],
   "source": [
    "store.delete('Pen')"
   ]
  },
  {
   "cell_type": "code",
   "execution_count": 95,
   "id": "4e602fa1",
   "metadata": {},
   "outputs": [],
   "source": [
    "store.update('Pen',100)"
   ]
  },
  {
   "cell_type": "code",
   "execution_count": 110,
   "id": "56ebf138",
   "metadata": {},
   "outputs": [
    {
     "data": {
      "text/plain": [
       "{'Pen': [100, 2.5],\n",
       " 'Pencil': [70, 2.5],\n",
       " 'Penyhj': [50, 2.5],\n",
       " 'Penjj': [40, 2.5]}"
      ]
     },
     "execution_count": 110,
     "metadata": {},
     "output_type": "execute_result"
    }
   ],
   "source": [
    "store.shop"
   ]
  },
  {
   "cell_type": "code",
   "execution_count": 119,
   "id": "ad03dd33",
   "metadata": {},
   "outputs": [
    {
     "data": {
      "text/plain": [
       "'You ordered 91 Pens and your total is 227.5GHs.'"
      ]
     },
     "execution_count": 119,
     "metadata": {},
     "output_type": "execute_result"
    }
   ],
   "source": [
    "store.order_item('Pen',91)"
   ]
  },
  {
   "cell_type": "code",
   "execution_count": 90,
   "id": "4e8a4a20",
   "metadata": {},
   "outputs": [],
   "source": [
    "store.add_promo('ERF',0.5)"
   ]
  },
  {
   "cell_type": "code",
   "execution_count": 91,
   "id": "4abf68c2",
   "metadata": {},
   "outputs": [
    {
     "data": {
      "text/plain": [
       "{'FTX-04': 1, 'ERF': 0.5}"
      ]
     },
     "execution_count": 91,
     "metadata": {},
     "output_type": "execute_result"
    }
   ],
   "source": [
    "store.promo"
   ]
  },
  {
   "cell_type": "code",
   "execution_count": 120,
   "id": "caeaa55a",
   "metadata": {},
   "outputs": [
    {
     "data": {
      "text/plain": [
       "'There are 9 pieces of Pen remaining'"
      ]
     },
     "execution_count": 120,
     "metadata": {},
     "output_type": "execute_result"
    }
   ],
   "source": [
    "store.rem_q('Pen')"
   ]
  },
  {
   "cell_type": "code",
   "execution_count": 96,
   "id": "cde875be",
   "metadata": {},
   "outputs": [
    {
     "data": {
      "text/plain": [
       "'You ordered 40 Pens and your total is 50.0GHs.'"
      ]
     },
     "execution_count": 96,
     "metadata": {},
     "output_type": "execute_result"
    }
   ],
   "source": [
    "store.order_item('Pen',40,'ERF')"
   ]
  },
  {
   "cell_type": "code",
   "execution_count": 121,
   "id": "782cc5bc",
   "metadata": {},
   "outputs": [
    {
     "data": {
      "text/plain": [
       "['Pen']"
      ]
     },
     "execution_count": 121,
     "metadata": {},
     "output_type": "execute_result"
    }
   ],
   "source": [
    "store.low_stock()"
   ]
  },
  {
   "cell_type": "code",
   "execution_count": null,
   "id": "95995283",
   "metadata": {},
   "outputs": [],
   "source": []
  }
 ],
 "metadata": {
  "kernelspec": {
   "display_name": "Python 3 (ipykernel)",
   "language": "python",
   "name": "python3"
  },
  "language_info": {
   "codemirror_mode": {
    "name": "ipython",
    "version": 3
   },
   "file_extension": ".py",
   "mimetype": "text/x-python",
   "name": "python",
   "nbconvert_exporter": "python",
   "pygments_lexer": "ipython3",
   "version": "3.9.13"
  }
 },
 "nbformat": 4,
 "nbformat_minor": 5
}
