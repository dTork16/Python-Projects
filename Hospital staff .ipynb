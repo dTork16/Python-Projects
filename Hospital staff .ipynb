{
 "cells": [
  {
   "cell_type": "code",
   "execution_count": 7,
   "metadata": {},
   "outputs": [],
   "source": [
    "class staff:\n",
    "    def __init__(self, staffId, name, profession):\n",
    "        self.staffId = staffId\n",
    "        self.name = name\n",
    "        self.profession = profession\n",
    "\n",
    "    def info(self):\n",
    "        print({\"Staff ID: \": self.staffId, \"Name\": self.name,\"Profession:\": self.profession})\n",
    "\n",
    "class Medical(staff):\n",
    "    def __init__(self, staffId, name, profession, specialization):\n",
    "        super().__init__(staffId, name, profession)\n",
    "        \n",
    "        \n",
    "    def set_specialization(self, specialization):\n",
    "        self.specialization = specialization\n",
    "\n",
    "    def info(self):\n",
    "        print({\"Staff ID \":self.staffId, \"Name\": self.name, \"Profession\": self.profession , \"Specialization\": self.specialization})\n",
    "\n",
    "class NonMedical(staff):\n",
    "    def __init__(self, staffId, name, profession, department ):\n",
    "        super().__init__(staffId, name, profession)\n",
    "        self.departement = department\n",
    "\n",
    "    def info(self):\n",
    "        print({\"Staff ID\":self.staffId, \"Name\": self.name, \"Profession\": self.profession, \"Department\": self.department})\n",
    "    \n"
   ]
  },
  {
   "cell_type": "code",
   "execution_count": 3,
   "metadata": {},
   "outputs": [],
   "source": [
    "staff_1 = staff(\"001\", \"Elsa Attipoe\", \"Doctor\")"
   ]
  },
  {
   "cell_type": "code",
   "execution_count": 4,
   "metadata": {},
   "outputs": [
    {
     "data": {
      "text/plain": [
       "'Doctor'"
      ]
     },
     "execution_count": 4,
     "metadata": {},
     "output_type": "execute_result"
    }
   ],
   "source": [
    "staff_1.profession"
   ]
  },
  {
   "cell_type": "code",
   "execution_count": 5,
   "metadata": {
    "scrolled": true
   },
   "outputs": [
    {
     "name": "stdout",
     "output_type": "stream",
     "text": [
      "{'Staff ID: ': '001', 'Name': 'Elsa Attipoe', 'Profession:': 'Doctor'}\n"
     ]
    }
   ],
   "source": [
    "staff_1.info()"
   ]
  },
  {
   "cell_type": "code",
   "execution_count": 7,
   "metadata": {},
   "outputs": [
    {
     "data": {
      "text/plain": [
       "'Doctor'"
      ]
     },
     "execution_count": 7,
     "metadata": {},
     "output_type": "execute_result"
    }
   ],
   "source": [
    "staff_1.profession"
   ]
  }
 ],
 "metadata": {
  "kernelspec": {
   "display_name": "Python 3 (ipykernel)",
   "language": "python",
   "name": "python3"
  },
  "language_info": {
   "codemirror_mode": {
    "name": "ipython",
    "version": 3
   },
   "file_extension": ".py",
   "mimetype": "text/x-python",
   "name": "python",
   "nbconvert_exporter": "python",
   "pygments_lexer": "ipython3",
   "version": "3.9.13"
  }
 },
 "nbformat": 4,
 "nbformat_minor": 2
}
